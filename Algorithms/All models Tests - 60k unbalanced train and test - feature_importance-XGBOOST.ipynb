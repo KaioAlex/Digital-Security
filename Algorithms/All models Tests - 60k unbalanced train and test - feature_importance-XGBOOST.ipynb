{
  "nbformat": 4,
  "nbformat_minor": 0,
  "metadata": {
    "kernelspec": {
      "display_name": "Python 3",
      "language": "python",
      "name": "python3"
    },
    "language_info": {
      "codemirror_mode": {
        "name": "ipython",
        "version": 3
      },
      "file_extension": ".py",
      "mimetype": "text/x-python",
      "name": "python",
      "nbconvert_exporter": "python",
      "pygments_lexer": "ipython3",
      "version": "3.7.3"
    },
    "colab": {
      "name": "Todos Modelos - feature_importance - Entregar André - 60k unbalanced train and test.ipynb",
      "provenance": [],
      "collapsed_sections": []
    }
  },
  "cells": [
    {
      "cell_type": "code",
      "metadata": {
        "id": "p1LSYAsTuPm3",
        "colab_type": "code",
        "outputId": "f727bfc0-cd18-4613-a3d1-af02b9a82d95",
        "colab": {
          "base_uri": "https://localhost:8080/",
          "height": 126
        }
      },
      "source": [
        "from google.colab import drive\n",
        "drive.mount('/content/drive')"
      ],
      "execution_count": 0,
      "outputs": [
        {
          "output_type": "stream",
          "text": [
            "Go to this URL in a browser: https://accounts.google.com/o/oauth2/auth?client_id=947318989803-6bn6qk8qdgf4n4g3pfee6491hc0brc4i.apps.googleusercontent.com&redirect_uri=urn%3Aietf%3Awg%3Aoauth%3A2.0%3Aoob&scope=email%20https%3A%2F%2Fwww.googleapis.com%2Fauth%2Fdocs.test%20https%3A%2F%2Fwww.googleapis.com%2Fauth%2Fdrive%20https%3A%2F%2Fwww.googleapis.com%2Fauth%2Fdrive.photos.readonly%20https%3A%2F%2Fwww.googleapis.com%2Fauth%2Fpeopleapi.readonly&response_type=code\n",
            "\n",
            "Enter your authorization code:\n",
            "··········\n",
            "Mounted at /content/drive\n"
          ],
          "name": "stdout"
        }
      ]
    },
    {
      "cell_type": "code",
      "metadata": {
        "id": "E95AVsmtusmk",
        "colab_type": "code",
        "outputId": "064678b6-9d17-48f8-ffee-2c9e470f9b5c",
        "colab": {
          "base_uri": "https://localhost:8080/",
          "height": 269
        }
      },
      "source": [
        "pip install pyod"
      ],
      "execution_count": 0,
      "outputs": [
        {
          "output_type": "stream",
          "text": [
            "Requirement already satisfied: pyod in /usr/local/lib/python3.6/dist-packages (0.7.5)\n",
            "Requirement already satisfied: numba>=0.35 in /usr/local/lib/python3.6/dist-packages (from pyod) (0.40.1)\n",
            "Requirement already satisfied: numpy>=1.13 in /usr/local/lib/python3.6/dist-packages (from pyod) (1.14.5)\n",
            "Requirement already satisfied: scikit-learn>=0.19.1 in /usr/local/lib/python3.6/dist-packages (from pyod) (0.19.1)\n",
            "Requirement already satisfied: six in /usr/local/lib/python3.6/dist-packages (from pyod) (1.12.0)\n",
            "Requirement already satisfied: joblib in /usr/local/lib/python3.6/dist-packages (from pyod) (0.14.0)\n",
            "Requirement already satisfied: scipy>=0.19.1 in /usr/local/lib/python3.6/dist-packages (from pyod) (1.3.1)\n",
            "Requirement already satisfied: matplotlib in /usr/local/lib/python3.6/dist-packages (from pyod) (2.1.2)\n",
            "Requirement already satisfied: llvmlite>=0.25.0dev0 in /usr/local/lib/python3.6/dist-packages (from numba>=0.35->pyod) (0.30.0)\n",
            "Requirement already satisfied: cycler>=0.10 in /usr/local/lib/python3.6/dist-packages (from matplotlib->pyod) (0.10.0)\n",
            "Requirement already satisfied: pyparsing!=2.0.4,!=2.1.2,!=2.1.6,>=2.0.1 in /usr/local/lib/python3.6/dist-packages (from matplotlib->pyod) (2.4.2)\n",
            "Requirement already satisfied: python-dateutil>=2.1 in /usr/local/lib/python3.6/dist-packages (from matplotlib->pyod) (2.6.1)\n",
            "Requirement already satisfied: pytz in /usr/local/lib/python3.6/dist-packages (from matplotlib->pyod) (2018.9)\n"
          ],
          "name": "stdout"
        }
      ]
    },
    {
      "cell_type": "code",
      "metadata": {
        "id": "2svhP74yzFRb",
        "colab_type": "code",
        "outputId": "def187fe-4aa7-41db-9b52-899271078cb3",
        "colab": {
          "base_uri": "https://localhost:8080/",
          "height": 71
        }
      },
      "source": [
        "pip install xgboost"
      ],
      "execution_count": 0,
      "outputs": [
        {
          "output_type": "stream",
          "text": [
            "Requirement already satisfied: xgboost in /usr/local/lib/python3.6/dist-packages (0.90)\n",
            "Requirement already satisfied: numpy in /usr/local/lib/python3.6/dist-packages (from xgboost) (1.14.5)\n",
            "Requirement already satisfied: scipy in /usr/local/lib/python3.6/dist-packages (from xgboost) (1.3.1)\n"
          ],
          "name": "stdout"
        }
      ]
    },
    {
      "cell_type": "code",
      "metadata": {
        "id": "8BtY3gNWvXPM",
        "colab_type": "code",
        "outputId": "ceee068a-9aed-4e59-ce1f-d756040dcb67",
        "colab": {
          "base_uri": "https://localhost:8080/",
          "height": 269
        }
      },
      "source": [
        "pip install feature_selector"
      ],
      "execution_count": 0,
      "outputs": [
        {
          "output_type": "stream",
          "text": [
            "Requirement already satisfied: feature_selector in /usr/local/lib/python3.6/dist-packages (1.0.0)\n",
            "Requirement already satisfied: numpy==1.14.5 in /usr/local/lib/python3.6/dist-packages (from feature_selector) (1.14.5)\n",
            "Requirement already satisfied: pandas==0.23.1 in /usr/local/lib/python3.6/dist-packages (from feature_selector) (0.23.1)\n",
            "Requirement already satisfied: seaborn==0.8.1 in /usr/local/lib/python3.6/dist-packages (from feature_selector) (0.8.1)\n",
            "Requirement already satisfied: lightgbm==2.1.1 in /usr/local/lib/python3.6/dist-packages (from feature_selector) (2.1.1)\n",
            "Requirement already satisfied: scikit-learn==0.19.1 in /usr/local/lib/python3.6/dist-packages (from feature_selector) (0.19.1)\n",
            "Requirement already satisfied: matplotlib==2.1.2 in /usr/local/lib/python3.6/dist-packages (from feature_selector) (2.1.2)\n",
            "Requirement already satisfied: pytz>=2011k in /usr/local/lib/python3.6/dist-packages (from pandas==0.23.1->feature_selector) (2018.9)\n",
            "Requirement already satisfied: python-dateutil>=2.5.0 in /usr/local/lib/python3.6/dist-packages (from pandas==0.23.1->feature_selector) (2.6.1)\n",
            "Requirement already satisfied: scipy in /usr/local/lib/python3.6/dist-packages (from lightgbm==2.1.1->feature_selector) (1.3.1)\n",
            "Requirement already satisfied: cycler>=0.10 in /usr/local/lib/python3.6/dist-packages (from matplotlib==2.1.2->feature_selector) (0.10.0)\n",
            "Requirement already satisfied: pyparsing!=2.0.4,!=2.1.2,!=2.1.6,>=2.0.1 in /usr/local/lib/python3.6/dist-packages (from matplotlib==2.1.2->feature_selector) (2.4.2)\n",
            "Requirement already satisfied: six>=1.10 in /usr/local/lib/python3.6/dist-packages (from matplotlib==2.1.2->feature_selector) (1.12.0)\n"
          ],
          "name": "stdout"
        }
      ]
    },
    {
      "cell_type": "code",
      "metadata": {
        "id": "kdBXaTm2zcdD",
        "colab_type": "code",
        "outputId": "3fa701bc-b4bc-46eb-f1ba-f05fcc6688a5",
        "colab": {
          "base_uri": "https://localhost:8080/",
          "height": 35
        }
      },
      "source": [
        "pip install nose"
      ],
      "execution_count": 0,
      "outputs": [
        {
          "output_type": "stream",
          "text": [
            "Requirement already satisfied: nose in /usr/local/lib/python3.6/dist-packages (1.3.7)\n"
          ],
          "name": "stdout"
        }
      ]
    },
    {
      "cell_type": "code",
      "metadata": {
        "scrolled": true,
        "id": "7pE5yjlAtl_F",
        "colab_type": "code",
        "outputId": "a308a98b-4342-4b9d-9001-8be25a2a40fe",
        "colab": {
          "base_uri": "https://localhost:8080/",
          "height": 99
        }
      },
      "source": [
        "import pandas as pd\n",
        "import numpy as np\n",
        "import pyod\n",
        "import seaborn as sns\n",
        "import matplotlib.pyplot as pyplot\n",
        "import matplotlib.pyplot as plt\n",
        "import sklearn.metrics as metrics\n",
        "from sklearn import preprocessing\n",
        "from pyod.utils.data import evaluate_print\n",
        "\n",
        "from pyod.models.pca import PCA\n",
        "from pyod.models.mcd import MCD\n",
        "from pyod.models.ocsvm import OCSVM\n",
        "\n",
        "from pyod.models.lof import LOF \n",
        "from pyod.models.cof import COF\n",
        "from pyod.models.cblof import CBLOF\n",
        "from pyod.models.loci import LOCI\n",
        "from pyod.models.hbos import HBOS\n",
        "from pyod.models.knn import KNN\n",
        "from pyod.models.sod import SOD\n",
        "\n",
        "from pyod.models.abod import ABOD\n",
        "from pyod.models.sos import SOS\n",
        "\n",
        "from pyod.models.iforest import IForest\n",
        "from pyod.models.feature_bagging import FeatureBagging\n",
        "from pyod.models.lscp import LSCP\n",
        "\n",
        "from pyod.models.auto_encoder import AutoEncoder\n",
        "from pyod.models.so_gaal import SO_GAAL\n",
        "from pyod.models.mo_gaal import MO_GAAL\n",
        "\n",
        "from sklearn.preprocessing import StandardScaler\n",
        "from feature_selector import FeatureSelector\n",
        "\n",
        "from datetime import datetime\n",
        "np.set_printoptions(precision=3)"
      ],
      "execution_count": 0,
      "outputs": [
        {
          "output_type": "stream",
          "text": [
            "Using TensorFlow backend.\n"
          ],
          "name": "stderr"
        },
        {
          "output_type": "display_data",
          "data": {
            "text/html": [
              "<p style=\"color: red;\">\n",
              "The default version of TensorFlow in Colab will soon switch to TensorFlow 2.x.<br>\n",
              "We recommend you <a href=\"https://www.tensorflow.org/guide/migrate\" target=\"_blank\">upgrade</a> now \n",
              "or ensure your notebook will continue to use TensorFlow 1.x via the <code>%tensorflow_version 1.x</code> magic:\n",
              "<a href=\"https://colab.research.google.com/notebooks/tensorflow_version.ipynb\" target=\"_blank\">more info</a>.</p>\n"
            ],
            "text/plain": [
              "<IPython.core.display.HTML object>"
            ]
          },
          "metadata": {
            "tags": []
          }
        }
      ]
    },
    {
      "cell_type": "code",
      "metadata": {
        "id": "o5D4ng8GvpZ0",
        "colab_type": "code",
        "colab": {}
      },
      "source": [
        ""
      ],
      "execution_count": 0,
      "outputs": []
    },
    {
      "cell_type": "code",
      "metadata": {
        "id": "P9F3-Fmftl_S",
        "colab_type": "code",
        "outputId": "771e66a9-62b7-4103-f92f-2b5b8a782242",
        "colab": {
          "base_uri": "https://localhost:8080/",
          "height": 73
        }
      },
      "source": [
        "training_set = pd.read_csv('/content/drive/My Drive/Colab Notebooks/training_set_100k.csv',sep=',',header=0)\n",
        "testing_set = pd.read_csv('/content/drive/My Drive/Colab Notebooks/test_set_inbalanced_60k.csv',sep=\",\",header=0)"
      ],
      "execution_count": 0,
      "outputs": [
        {
          "output_type": "stream",
          "text": [
            "/usr/local/lib/python3.6/dist-packages/IPython/core/interactiveshell.py:2718: DtypeWarning: Columns (21,22) have mixed types. Specify dtype option on import or set low_memory=False.\n",
            "  interactivity=interactivity, compiler=compiler, result=result)\n"
          ],
          "name": "stderr"
        }
      ]
    },
    {
      "cell_type": "code",
      "metadata": {
        "id": "ohb40Exp5icJ",
        "colab_type": "code",
        "colab": {}
      },
      "source": [
        "#transforma dados categóricos em números\n",
        "for f in training_set.columns: \n",
        "    if training_set[f].dtype=='object': \n",
        "        label = preprocessing.LabelEncoder() \n",
        "        label.fit(list(training_set[f].values)) \n",
        "        training_set[f] = label.transform(list(training_set[f].values))\n",
        "    \n",
        "trainingSet = training_set.values\n",
        "#np.random.shuffle(trainingSet)\n",
        "\n",
        "trainingSet = trainingSet.astype(float)\n",
        "\n",
        "for i in range (trainingSet.shape[0]-1, 0, -1):\n",
        "    for j in range(0, trainingSet.shape[1]):\n",
        "        trainingSet[i, j] = float(trainingSet[i, j])\n",
        "        if (np.isinf(trainingSet[i, j]) or np.isnan(trainingSet[i, j])):\n",
        "            trainingSet = np.delete(trainingSet, i, axis=0)\n",
        "\n",
        "y_training = trainingSet[:, 84].astype(int)\n",
        "\n",
        "\n",
        "trainingSet = np.delete(trainingSet, 84, axis=1)  #deleta o label"
      ],
      "execution_count": 0,
      "outputs": []
    },
    {
      "cell_type": "code",
      "metadata": {
        "id": "RDlrwzfG5YD5",
        "colab_type": "code",
        "colab": {}
      },
      "source": [
        "#transforma dados categóricos em números\n",
        "for f in testing_set.columns: \n",
        "    if testing_set[f].dtype=='object': \n",
        "        label = preprocessing.LabelEncoder() \n",
        "        label.fit(list(testing_set[f].values)) \n",
        "        testing_set[f] = label.transform(list(testing_set[f].values))\n",
        "    \n",
        "testingSet = testing_set.values\n",
        "#np.random.shuffle(testingSet)\n",
        "\n",
        "testingSet = testingSet.astype(float)\n",
        "\n",
        "for i in range (testingSet.shape[0]-1, 0, -1):\n",
        "    for j in range(0, testingSet.shape[1]):\n",
        "        testingSet[i, j] = float(testingSet[i, j])\n",
        "        if (np.isinf(testingSet[i, j]) or np.isnan(testingSet[i, j])):\n",
        "            testingSet = np.delete(testingSet, i, axis=0)\n",
        "\n",
        "y_testing = testingSet[:, 84].astype(int)\n",
        "\n",
        "testingSet = np.delete(testingSet, 84, axis=1)  #deleta o label"
      ],
      "execution_count": 0,
      "outputs": []
    },
    {
      "cell_type": "code",
      "metadata": {
        "id": "gBcHr1585YGm",
        "colab_type": "code",
        "outputId": "af80e825-e8a2-4ebf-c2bb-a970d958c89e",
        "colab": {
          "base_uri": "https://localhost:8080/",
          "height": 53
        }
      },
      "source": [
        "#Features codificadas pelo label enconder: 17 16 7 4 2 1 0\n",
        "#Feaatures sempre 0: 67, 66, 65, 64, 63, 62, 40, 39\n",
        "#features com correlação próxima de zero, vide loop abaixo: 73, 71, 70, 50, 42, 34, 12, 10 \n",
        "\n",
        "droppingList = [67, 66, 65, 64, 63, 62, 40, 39]\n",
        "droppedFeatures = droppingList\n",
        "\n",
        "#cm = testing_set[top_corr_features].corr().values\n",
        "for i in (droppingList):\n",
        "    testingSet = np.delete(testingSet, i, axis=1)\n",
        "#    header = np.delete(header, i, axis=0)\n",
        "    trainingSet = np.delete(trainingSet, i, axis=1) \n",
        "    \n",
        "#    cm = np.delete(cm, i, axis = 0)\n",
        "#    cm = np.delete(cm, i, axis = 1)\n",
        "\n",
        "#tolerance = 0.4\n",
        "#for i in range(cm.shape[0]-1, 0, -1):\n",
        "#    if cm[cm.shape[0]-1, i] >= -tolerance and cm[cm.shape[0]-1, i] <= tolerance:\n",
        "#        if i not in droppingList:\n",
        "#            droppedFeatures.append(i)\n",
        "#            testingSet = np.delete(testingSet, i, axis=1)\n",
        "#            header = np.delete(header, i, axis=0)\n",
        "print(\"Features dropadas: \")\n",
        "print(droppedFeatures)\n"
      ],
      "execution_count": 0,
      "outputs": [
        {
          "output_type": "stream",
          "text": [
            "Features dropadas: \n",
            "[67, 66, 65, 64, 63, 62, 40, 39]\n"
          ],
          "name": "stdout"
        }
      ]
    },
    {
      "cell_type": "code",
      "metadata": {
        "id": "WroIESy-5dbS",
        "colab_type": "code",
        "colab": {}
      },
      "source": [
        ""
      ],
      "execution_count": 0,
      "outputs": []
    },
    {
      "cell_type": "code",
      "metadata": {
        "id": "6gp9MTVo0iHi",
        "colab_type": "code",
        "colab": {}
      },
      "source": [
        "import matplotlib.pyplot as pyplot\n",
        "from numpy import loadtxt\n",
        "\n",
        "from xgboost import XGBClassifier\n",
        "from xgboost import plot_importance\n",
        "from xgboost import plot_tree\n",
        "\n",
        "# use feature importance for feature selection\n",
        "from numpy import loadtxt\n",
        "from numpy import sort\n",
        "from xgboost import XGBClassifier\n",
        "from sklearn.model_selection import train_test_split\n",
        "from sklearn.metrics import accuracy_score\n",
        "from sklearn.feature_selection import SelectFromModel"
      ],
      "execution_count": 0,
      "outputs": []
    },
    {
      "cell_type": "code",
      "metadata": {
        "id": "2lKMKb5uxCow",
        "colab_type": "code",
        "outputId": "0df27462-4cd4-4bba-b479-d334c522a116",
        "colab": {
          "base_uri": "https://localhost:8080/",
          "height": 142
        }
      },
      "source": [
        "model_name = 'XGBOOST'\n",
        "model = XGBClassifier()\n",
        "model.fit(trainingSet, y_training)"
      ],
      "execution_count": 0,
      "outputs": [
        {
          "output_type": "execute_result",
          "data": {
            "text/plain": [
              "XGBClassifier(base_score=0.5, booster='gbtree', colsample_bylevel=1,\n",
              "       colsample_bynode=1, colsample_bytree=1, gamma=0, learning_rate=0.1,\n",
              "       max_delta_step=0, max_depth=3, min_child_weight=1, missing=None,\n",
              "       n_estimators=100, n_jobs=1, nthread=None,\n",
              "       objective='binary:logistic', random_state=0, reg_alpha=0,\n",
              "       reg_lambda=1, scale_pos_weight=1, seed=None, silent=None,\n",
              "       subsample=1, verbosity=1)"
            ]
          },
          "metadata": {
            "tags": []
          },
          "execution_count": 78
        }
      ]
    },
    {
      "cell_type": "code",
      "metadata": {
        "id": "7Qziyuo9-OpR",
        "colab_type": "code",
        "outputId": "5ab952aa-3bb4-4777-b2b4-71cbda9e3182",
        "colab": {
          "base_uri": "https://localhost:8080/",
          "height": 303
        }
      },
      "source": [
        "print(trainingSet)\n",
        "print(y_training.sum())\n",
        "print(testingSet)\n",
        "print(y_testing.sum())"
      ],
      "execution_count": 0,
      "outputs": [
        {
          "output_type": "stream",
          "text": [
            "[[8.550e+02 8.254e+04 2.136e+03 ... 0.000e+00 0.000e+00 0.000e+00]\n",
            " [9.400e+02 8.254e+04 2.136e+03 ... 0.000e+00 0.000e+00 0.000e+00]\n",
            " [3.422e+03 8.249e+04 2.133e+03 ... 0.000e+00 0.000e+00 0.000e+00]\n",
            " ...\n",
            " [6.585e+06 3.316e+04 3.597e+03 ... 0.000e+00 0.000e+00 0.000e+00]\n",
            " [1.185e+05 8.100e+04 2.124e+03 ... 0.000e+00 0.000e+00 0.000e+00]\n",
            " [2.275e+06 8.475e+03 1.092e+03 ... 0.000e+00 0.000e+00 0.000e+00]]\n",
            "50483\n",
            "[[2.627e+05 5.125e+04 3.422e+03 ... 0.000e+00 0.000e+00 0.000e+00]\n",
            " [2.221e+06 4.717e+04 1.463e+03 ... 0.000e+00 0.000e+00 0.000e+00]\n",
            " [1.228e+06 5.255e+04 1.616e+03 ... 0.000e+00 0.000e+00 0.000e+00]\n",
            " ...\n",
            " [4.670e+06 1.820e+04 1.362e+03 ... 0.000e+00 0.000e+00 0.000e+00]\n",
            " [3.435e+06 1.369e+04 1.247e+03 ... 0.000e+00 0.000e+00 0.000e+00]\n",
            " [3.237e+06 3.190e+04 2.534e+03 ... 0.000e+00 0.000e+00 0.000e+00]]\n",
            "10256\n"
          ],
          "name": "stdout"
        }
      ]
    },
    {
      "cell_type": "code",
      "metadata": {
        "id": "dTv4SnobxCtN",
        "colab_type": "code",
        "outputId": "fd28f0e0-45f3-40af-c207-20f49431cc1f",
        "colab": {
          "base_uri": "https://localhost:8080/",
          "height": 700
        }
      },
      "source": [
        "pyplot.rcParams['figure.figsize'] = (11,7)\n",
        "\n",
        "# feature importance\n",
        "print(model.feature_importances_)\n",
        "print()\n",
        "# feature mais importante\n",
        "np.set_printoptions(precision=3)\n",
        "print(\"Feature mais importante eh\", np.argmax(model.feature_importances_), \"=\",max(model.feature_importances_))\n",
        "print(\"Feature menos importante eh {} = {:.7f}\".format(np.argmin(model.feature_importances_), min(model.feature_importances_)))\n",
        "print(trainingSet[:,0])\n",
        "\n",
        "# plot\n",
        "pyplot.bar(range(len(model.feature_importances_)), model.feature_importances_,width = 2)\n",
        "pyplot.show()"
      ],
      "execution_count": 0,
      "outputs": [
        {
          "output_type": "stream",
          "text": [
            "[1.319e-02 8.857e-01 1.094e-02 2.663e-03 2.480e-02 4.075e-04 0.000e+00\n",
            " 2.326e-02 0.000e+00 1.287e-03 0.000e+00 2.489e-04 0.000e+00 0.000e+00\n",
            " 0.000e+00 0.000e+00 0.000e+00 0.000e+00 0.000e+00 0.000e+00 3.204e-05\n",
            " 0.000e+00 0.000e+00 0.000e+00 7.146e-06 0.000e+00 2.738e-04 2.090e-02\n",
            " 6.886e-06 0.000e+00 0.000e+00 0.000e+00 0.000e+00 0.000e+00 0.000e+00\n",
            " 0.000e+00 0.000e+00 0.000e+00 0.000e+00 0.000e+00 5.989e-05 0.000e+00\n",
            " 1.711e-04 0.000e+00 0.000e+00 0.000e+00 0.000e+00 0.000e+00 0.000e+00\n",
            " 2.214e-04 0.000e+00 0.000e+00 2.528e-04 0.000e+00 0.000e+00 0.000e+00\n",
            " 0.000e+00 0.000e+00 0.000e+00 0.000e+00 0.000e+00 0.000e+00 0.000e+00\n",
            " 0.000e+00 0.000e+00 1.037e-02 0.000e+00 5.180e-03 0.000e+00 0.000e+00\n",
            " 0.000e+00 0.000e+00 0.000e+00 0.000e+00 0.000e+00 0.000e+00]\n",
            "\n",
            "Feature mais importante eh 1 = 0.8857298\n",
            "Feature menos importante eh 6 = 0.0000000\n",
            "[8.550e+02 9.400e+02 3.422e+03 ... 6.585e+06 1.185e+05 2.275e+06]\n"
          ],
          "name": "stdout"
        },
        {
          "output_type": "display_data",
          "data": {
            "image/png": "[encoded data removed]",
            "text/plain": [
              "<matplotlib.figure.Figure at 0x7f234afaf278>"
            ]
          },
          "metadata": {
            "tags": []
          }
        }
      ]
    },
    {
      "cell_type": "code",
      "metadata": {
        "id": "uxkCqn9vxCvV",
        "colab_type": "code",
        "outputId": "176159bf-763e-4d71-f08a-c32859936065",
        "colab": {
          "base_uri": "https://localhost:8080/",
          "height": 91
        }
      },
      "source": [
        "# make predictions for test data and evaluate\n",
        "y_pred = model.predict(testingSet)\n",
        "predictions = [round(value) for value in y_pred]\n",
        "accuracy = accuracy_score(y_test, predictions)\n",
        "print(\"Accuracy: %.2f%%\" % (accuracy * 100.0))"
      ],
      "execution_count": 0,
      "outputs": [
        {
          "output_type": "stream",
          "text": [
            "Accuracy: 71.47%\n"
          ],
          "name": "stdout"
        },
        {
          "output_type": "stream",
          "text": [
            "/usr/local/lib/python3.6/dist-packages/sklearn/preprocessing/label.py:151: DeprecationWarning: The truth value of an empty array is ambiguous. Returning False, but in future this will result in an error. Use `array.size > 0` to check that an array is not empty.\n",
            "  if diff:\n"
          ],
          "name": "stderr"
        }
      ]
    },
    {
      "cell_type": "code",
      "metadata": {
        "id": "SQySqDsJyITa",
        "colab_type": "code",
        "colab": {}
      },
      "source": [
        "# Fit model using each importance as a threshold\n",
        "#thresholds = sort(model.feature_importances_)\n",
        "#for thresh in thresholds:\n",
        "\t# select features using threshold\n",
        "#\tselection = SelectFromModel(model, threshold=thresh, prefit=True)\n",
        "#\tselect_X_train = selection.transform(trainingSet)\n",
        " \n",
        "\t# train model\n",
        "#\tselection_model = XGBClassifier()\n",
        "#\tselection_model.fit(select_X_train, y_training)\n",
        " \n",
        "\t# eval model\n",
        "#\tselect_X_test = selection.transform(testingSet)\n",
        "#\ty_pred = selection_model.predict(select_X_test)\n",
        "#\tpredictions = [round(value) for value in y_pred]\n",
        "#\taccuracy = accuracy_score(y_test, predictions)\n",
        " \n",
        "#\tprint(\"Thresh=%.3f, n=%d, Accuracy: %.2f%%\" % (thresh, select_X_train.shape[1], accuracy*100.0))"
      ],
      "execution_count": 0,
      "outputs": []
    },
    {
      "cell_type": "code",
      "metadata": {
        "id": "N4TXYN-11P9V",
        "colab_type": "code",
        "colab": {}
      },
      "source": [
        ""
      ],
      "execution_count": 0,
      "outputs": []
    },
    {
      "cell_type": "code",
      "metadata": {
        "id": "1FJsXyZi1QAG",
        "colab_type": "code",
        "colab": {}
      },
      "source": [
        " outliers_fraction = 0.17\n",
        " def testMethod(clf, clf_name):\n",
        "    # select features using threshold\n",
        "    selection = SelectFromModel(model, threshold=0.002, prefit=True)\n",
        "    select_X_test = selection.transform(testingSet)\n",
        "\n",
        "    # train model\n",
        "    start_fit = datetime.now()\n",
        "    selection_model = clf\n",
        "    selection_model.fit(select_X_test, y_training)\n",
        "    \n",
        "    # eval model\n",
        "\n",
        "    y_pred = selection_model.predict(select_X_test)\n",
        "    end_predict = datetime.now()\n",
        "\n",
        "    #####################################################################\n",
        "\n",
        "    print(\"\\nResults - \"+clf_name+\":\")\n",
        "    truePositive = 0\n",
        "    trueNegative = 0\n",
        "    falsePositive = 0\n",
        "    falseNegative = 0\n",
        "\n",
        "    for i in range(y_test.size):\n",
        "        if(y_test[i] == 1 and y_pred[i] == 1):\n",
        "            truePositive = truePositive+1\n",
        "        elif (y_test[i] == 0 and y_pred[i] == 0):\n",
        "            trueNegative = trueNegative+1\n",
        "        elif (y_test[i] == 0 and y_pred[i] == 1):\n",
        "            falsePositive = falsePositive+1\n",
        "        else:\n",
        "            falseNegative = falseNegative+1\n",
        "\n",
        "    print(\"Confusion Matrix:\")\n",
        "    print(\"               Actual\")\n",
        "    print(\"Predicted  \", truePositive, \" | \", falsePositive)\n",
        "    print(\"           \",falseNegative, \" | \", trueNegative,\"\\n\")\n",
        "    \n",
        "    predictions = [round(value) for value in y_pred]\n",
        "    accuracy = accuracy_score(y_test, predictions)\n",
        "    print(clf_name)\n",
        "    print()\n",
        "    print(\"Thresh=%.3f, n=%d, Accuracy: %.2f%%\" % (0.002, select_X_test.shape[1], accuracy*100.0))\n",
        "    print()\n",
        "    \n",
        "    #gets usual metrics based on results obtained\n",
        "    total = y_test.shape[0]\n",
        "    \n",
        "    accuracy = (truePositive+trueNegative)/total\n",
        "    print(\"Accuracy: \", accuracy)\n",
        "    \n",
        "    if(truePositive+falsePositive != 0):\n",
        "        precision = truePositive/(truePositive+falsePositive)\n",
        "        print(\"Precision: \", precision)\n",
        "    else:\n",
        "        precision = 0\n",
        "        print(\"Precision: -\")\n",
        "        \n",
        "    if(truePositive+falseNegative != 0):\n",
        "        recall = truePositive/(truePositive+falseNegative)\n",
        "        print(\"Recall: \", recall)\n",
        "    else:\n",
        "        recall = 0\n",
        "        print(\"Recall: -\")\n",
        "        \n",
        "    if(recall + precision != 0):\n",
        "        f1 = 2*(recall*precision)/(recall+precision)\n",
        "        print(\"F1-score: \", f1)\n",
        "    else:\n",
        "        print(\"F1-score: -\")\n",
        "    \n",
        "    duration = end_predict - start_fit\n",
        "    print(\"Duration: \", duration.total_seconds(), \" seconds\")\n",
        "    print(\"\\n\")\n",
        "\n",
        "    print(\"#####################################################################\")\n",
        "    print()"
      ],
      "execution_count": 0,
      "outputs": []
    },
    {
      "cell_type": "code",
      "metadata": {
        "id": "KuqUPVvpyIar",
        "colab_type": "code",
        "colab": {}
      },
      "source": [
        ""
      ],
      "execution_count": 0,
      "outputs": []
    },
    {
      "cell_type": "code",
      "metadata": {
        "scrolled": true,
        "id": "gxuTte8qtmAB",
        "colab_type": "code",
        "outputId": "02d2431d-d331-459e-a898-22bc5657a467",
        "colab": {
          "base_uri": "https://localhost:8080/",
          "height": 859
        }
      },
      "source": [
        "#Linear Models\n",
        "classifiers = {\n",
        "    'PCA': PCA(contamination= outliers_fraction),\n",
        "    'MCD': MCD(contamination= outliers_fraction),\n",
        "    'OCSVM': OCSVM(contamination= outliers_fraction)\n",
        "}\n",
        "\n",
        "for i, (clf_name, clf) in enumerate(classifiers.items()):\n",
        "    testMethod(clf, clf_name)"
      ],
      "execution_count": 0,
      "outputs": [
        {
          "output_type": "stream",
          "text": [
            "/usr/local/lib/python3.6/dist-packages/pyod/models/base.py:344: UserWarning: y should not be presented in unsupervised learning.\n",
            "  \"y should not be presented in unsupervised learning.\")\n"
          ],
          "name": "stderr"
        },
        {
          "output_type": "stream",
          "text": [
            "\n",
            "Results - PCA:\n",
            "Confusion Matrix:\n",
            "               Actual\n",
            "Predicted   1968  |  8170\n",
            "            8288  |  41207 \n",
            "\n",
            "PCA\n",
            "\n",
            "Thresh=0.002, n=36, Accuracy: 72.40%\n",
            "\n",
            "Accuracy:  0.7240118726208643\n",
            "Precision:  0.19412112842769777\n",
            "Recall:  0.1918876755070203\n",
            "F1-score:  0.19299794057075614\n",
            "Duration:  0.417136  seconds\n",
            "\n",
            "\n",
            "#####################################################################\n",
            "\n"
          ],
          "name": "stdout"
        },
        {
          "output_type": "stream",
          "text": [
            "/usr/local/lib/python3.6/dist-packages/sklearn/covariance/robust_covariance.py:165: RuntimeWarning: Warning! det > previous_det (277.738266577269258 > 265.162685957262454)\n",
            "  % (det, previous_det), RuntimeWarning)\n",
            "/usr/local/lib/python3.6/dist-packages/sklearn/covariance/robust_covariance.py:165: RuntimeWarning: Warning! det > previous_det (264.728722517645508 > 245.553917273985377)\n",
            "  % (det, previous_det), RuntimeWarning)\n"
          ],
          "name": "stderr"
        },
        {
          "output_type": "stream",
          "text": [
            "\n",
            "Results - MCD:\n",
            "Confusion Matrix:\n",
            "               Actual\n",
            "Predicted   1109  |  9029\n",
            "            9147  |  40348 \n",
            "\n",
            "MCD\n",
            "\n",
            "Thresh=0.002, n=36, Accuracy: 69.52%\n",
            "\n",
            "Accuracy:  0.6952023208626096\n",
            "Precision:  0.10939041231012034\n",
            "Recall:  0.10813182527301092\n",
            "F1-score:  0.10875747768951652\n",
            "Duration:  21.447434  seconds\n",
            "\n",
            "\n",
            "#####################################################################\n",
            "\n"
          ],
          "name": "stdout"
        }
      ]
    },
    {
      "cell_type": "code",
      "metadata": {
        "scrolled": true,
        "id": "d6BRcAxttmAG",
        "colab_type": "code",
        "colab": {}
      },
      "source": [
        "#Proximity Based\n",
        "classifiers = {\n",
        "    #'COF': COF(contamination= outliers_fraction),  #Apresentou erros de execução.\n",
        "    'LOF': LOF(contamination = outliers_fraction),\n",
        "    'CBLOF':CBLOF(contamination= outliers_fraction),\n",
        "    #'LOCI':LOCI(contamination= outliers_fraction),   #Travou a máquina de execução repetidas vezes.\n",
        "    'HBOS': HBOS(contamination= outliers_fraction),\n",
        "    'kNN': KNN(method='largest', contamination= outliers_fraction),\n",
        "    'AvgKNN': KNN(method='mean', contamination= outliers_fraction),\n",
        "    'MedKNN': KNN(method='median', contamination= outliers_fraction),\n",
        "    'SOD': SOD(contamination= outliers_fraction)\n",
        "}\n",
        "\n",
        "for i, (clf_name, clf) in enumerate(classifiers.items()):\n",
        "    testMethod(clf, clf_name)    "
      ],
      "execution_count": 0,
      "outputs": []
    },
    {
      "cell_type": "code",
      "metadata": {
        "scrolled": true,
        "id": "W3Wt99KKtmAK",
        "colab_type": "code",
        "colab": {}
      },
      "source": [
        "#Probabilistic tests\n",
        "classifiers = {\n",
        "    'ABOD': ABOD(contamination = outliers_fraction),\n",
        "    #'SOS': SOS(contamination = outliers_fraction) #Apresentou erros de execução.\n",
        "}\n",
        "\n",
        "for i, (clf_name, clf) in enumerate(classifiers.items()):\n",
        "    testMethod(clf, clf_name)"
      ],
      "execution_count": 0,
      "outputs": []
    },
    {
      "cell_type": "code",
      "metadata": {
        "id": "EtxtRGG8tmAN",
        "colab_type": "code",
        "colab": {}
      },
      "source": [
        "#Ensenbles tests\n",
        "listDetectors = detector_list=[HBOS(),\n",
        "                               PCA(),\n",
        "                               ABOD(),\n",
        "                               LOF(),\n",
        "                               KNN()]\n",
        "classifiers = {\n",
        "    'Isolation Forest': IForest(contamination = outliers_fraction),\n",
        "    'Feature Bagging': FeatureBagging(contamination = outliers_fraction)\n",
        "    #'LSCP': LSCP(detector_list = listDetectors, contamination = outliers_fraction) #Still couldn't get it to work\n",
        "    #XGBOD tests are in a separate file\n",
        "}\n",
        "\n",
        "for i, (clf_name, clf) in enumerate(classifiers.items()):\n",
        "    testMethod(clf, clf_name)"
      ],
      "execution_count": 0,
      "outputs": []
    },
    {
      "cell_type": "code",
      "metadata": {
        "scrolled": true,
        "id": "yjHRLT77tmAS",
        "colab_type": "code",
        "colab": {}
      },
      "source": [
        "#Neural Networks tests\n",
        "classifiers = {\n",
        "    'AutoEncoder': AutoEncoder(contamination = outliers_fraction, hidden_neurons = [8, 4, 4, 8], epochs = 15),\n",
        "    'SO_GAAL': SO_GAAL(contamination = outliers_fraction),\n",
        "    'MO_GAAL': MO_GAAL(contamination = outliers_fraction)\n",
        "}\n",
        "\n",
        "for i, (clf_name, clf) in enumerate(classifiers.items()):\n",
        "    testMethod(clf, clf_name)"
      ],
      "execution_count": 0,
      "outputs": []
    },
    {
      "cell_type": "code",
      "metadata": {
        "id": "OCNwX4VMtmAa",
        "colab_type": "code",
        "colab": {}
      },
      "source": [
        ""
      ],
      "execution_count": 0,
      "outputs": []
    }
  ]
}